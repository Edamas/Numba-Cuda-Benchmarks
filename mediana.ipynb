{
 "cells": [
  {
   "cell_type": "markdown",
   "metadata": {},
   "source": [
    "# Mediana"
   ]
  },
  {
   "cell_type": "code",
   "execution_count": 147,
   "metadata": {},
   "outputs": [
    {
     "data": {
      "text/plain": [
       "(1000000, dtype('int64'), 999989.0)"
      ]
     },
     "execution_count": 147,
     "metadata": {},
     "output_type": "execute_result"
    }
   ],
   "source": [
    "import numba \n",
    "from numba import cuda, jit, njit\n",
    "import numpy as np\n",
    "from functools import reduce\n",
    "import datetime as dt\n",
    "\n",
    "def now():\n",
    "    return dt.datetime.now()\n",
    "\n",
    "with open('offline_1000000.csv', 'r', encoding='utf-8') as arq:\n",
    "    array = np.array([int(i) for i in arq.read().split('\\n') if i])\n",
    "\n",
    "array0.sort()\n",
    "ref = np.median(array0)\n",
    "array.size, array.dtype, ref"
   ]
  },
  {
   "cell_type": "code",
   "execution_count": 49,
   "metadata": {},
   "outputs": [
    {
     "name": "stdout",
     "output_type": "stream",
     "text": [
      "588 ns ± 5.81 ns per loop (mean ± std. dev. of 7 runs, 1000000 loops each)\n"
     ]
    },
    {
     "data": {
      "text/plain": [
       "'0.0000005940, True'"
      ]
     },
     "execution_count": 49,
     "metadata": {},
     "output_type": "execute_result"
    }
   ],
   "source": [
    "@njit\n",
    "def med(array):\n",
    "    meio = (len(array))/2\n",
    "    if meio % 2 == 0:\n",
    "        meio = (array[int(meio-1)] + array[int(meio)])/2\n",
    "    else:\n",
    "        meio = array[int(meio)]\n",
    "    return meio\n",
    "%timeit med(array)\n",
    "f'{round(np.average([5.93e-7, 6.17e-7, 5.78e-7, 5.88e-7, 5.88e-7]), 10):,.10f}, {med(array)==ref}'"
   ]
  },
  {
   "cell_type": "code",
   "execution_count": 145,
   "metadata": {},
   "outputs": [
    {
     "name": "stdout",
     "output_type": "stream",
     "text": [
      "713 ns ± 9.89 ns per loop (mean ± std. dev. of 7 runs, 1000000 loops each)\n"
     ]
    },
    {
     "data": {
      "text/plain": [
       "'0.0000006487, False'"
      ]
     },
     "execution_count": 145,
     "metadata": {},
     "output_type": "execute_result"
    }
   ],
   "source": [
    "@jit\n",
    "def med(array):\n",
    "    meio = (len(array))/2\n",
    "    return (meio % 2 == 0) * (array[int(meio-1)] + array[int(meio)])/2 + (meio % 2 != 0) * array[int(meio)]\n",
    "%timeit med(array)\n",
    "f'{round(np.average([6.40e-7, 6.22e-7, 6.66e-7, 6.22e-7, 6.28e-7, 6.54e-7, 7.09e-7, 7.13e-7]), 10):,.10f}, {med(array)==ref}'"
   ]
  },
  {
   "cell_type": "code",
   "execution_count": 144,
   "metadata": {},
   "outputs": [
    {
     "name": "stdout",
     "output_type": "stream",
     "text": [
      "656 ns ± 20.1 ns per loop (mean ± std. dev. of 7 runs, 1000000 loops each)\n"
     ]
    },
    {
     "data": {
      "text/plain": [
       "'0.0000006533, False'"
      ]
     },
     "execution_count": 144,
     "metadata": {},
     "output_type": "execute_result"
    }
   ],
   "source": [
    "@njit\n",
    "def med(array):\n",
    "    meio = (len(array))/2\n",
    "    return  (meio % 2 == 0) * (array[int(meio-1)] + array[int(meio)])/2 + (meio % 2 != 0) * array[int(meio)]\n",
    "%timeit med(array)\n",
    "f'{round(np.average([7.05e-7, 6.34e-7, 6.42e-7, 6.58e-7, 6.36e-7, 6.45e-7, 6.56e-7]), 10):,.10f}, {med(array)==ref}'"
   ]
  },
  {
   "cell_type": "code",
   "execution_count": 94,
   "metadata": {},
   "outputs": [
    {
     "name": "stdout",
     "output_type": "stream",
     "text": [
      "799 ns ± 70.7 ns per loop (mean ± std. dev. of 7 runs, 1000000 loops each)\n"
     ]
    },
    {
     "data": {
      "text/plain": [
       "'0.0000006600, True'"
      ]
     },
     "execution_count": 94,
     "metadata": {},
     "output_type": "execute_result"
    }
   ],
   "source": [
    "@njit\n",
    "def med(array):\n",
    "    meio = (len(array))/2\n",
    "    if meio % 2 == 0:\n",
    "        meio = (array[int(meio-1)] + array[int(meio)])/2\n",
    "    else:\n",
    "        meio = array[int(meio)]\n",
    "    return meio\n",
    "%timeit med(array)\n",
    "f'{round(np.average([5.93e-7, 6.76e-7, 7.11e-7, 7.99e-7]), 10):,.10f}, {med(array)==ref}'"
   ]
  },
  {
   "cell_type": "code",
   "execution_count": 67,
   "metadata": {},
   "outputs": [
    {
     "name": "stdout",
     "output_type": "stream",
     "text": [
      "604 ns ± 16 ns per loop (mean ± std. dev. of 7 runs, 1000000 loops each)\n"
     ]
    },
    {
     "data": {
      "text/plain": [
       "'0.0000006012, True'"
      ]
     },
     "execution_count": 67,
     "metadata": {},
     "output_type": "execute_result"
    }
   ],
   "source": [
    "@njit\n",
    "def med(array):\n",
    "    meio = (len(array))//2\n",
    "    return (meio % 2 == 0) * (array[meio] + array[meio+1])/2 + (meio % 2 != 0) * array[meio]\n",
    "%timeit med(array)\n",
    "f'{round(np.average([6.22e-7, 6.18e-7, 5.84e-7, 6.03e-7, 5.79e-7, 6.04e-7]), 10):,.10f}, {med(array)==ref}'"
   ]
  },
  {
   "cell_type": "code",
   "execution_count": 57,
   "metadata": {},
   "outputs": [
    {
     "name": "stdout",
     "output_type": "stream",
     "text": [
      "579 ns ± 9.74 ns per loop (mean ± std. dev. of 7 runs, 1000000 loops each)\n"
     ]
    },
    {
     "data": {
      "text/plain": [
       "'0.0000006067, True'"
      ]
     },
     "execution_count": 57,
     "metadata": {},
     "output_type": "execute_result"
    }
   ],
   "source": [
    "@jit\n",
    "def med(array):\n",
    "    meio = (len(array))//2\n",
    "    return (meio % 2 == 0) * (array[meio] + array[meio+1])/2 + (meio % 2 != 0) * array[meio]\n",
    "%timeit med(array)\n",
    "f'{round(np.average([6.22e-7, 6.18e-7, 5.84e-7, 6.03e-7, 5.79e-7]), 10):,.10f}, {med(array)==ref}'"
   ]
  },
  {
   "cell_type": "code",
   "execution_count": 62,
   "metadata": {},
   "outputs": [
    {
     "name": "stdout",
     "output_type": "stream",
     "text": [
      "1.86 µs ± 21.9 ns per loop (mean ± std. dev. of 7 runs, 1000000 loops each)\n"
     ]
    },
    {
     "data": {
      "text/plain": [
       "'0.0000019375, True'"
      ]
     },
     "execution_count": 62,
     "metadata": {},
     "output_type": "execute_result"
    }
   ],
   "source": [
    "def med(array):\n",
    "    meio = (len(array))//2\n",
    "    if meio % 2 == 0:\n",
    "        meio = (array[meio] + array[meio+1])/2\n",
    "    else:\n",
    "        meio = array[meio]\n",
    "    return meio\n",
    "%timeit med(array)\n",
    "f'{round(np.average([0.00000188, 0.00000213, 0.00000188, 0.00000186]), 10):,.10f}, {med(array)==ref}'"
   ]
  },
  {
   "cell_type": "code",
   "execution_count": 63,
   "metadata": {},
   "outputs": [
    {
     "name": "stdout",
     "output_type": "stream",
     "text": [
      "11.3 µs ± 143 ns per loop (mean ± std. dev. of 7 runs, 100000 loops each)\n"
     ]
    },
    {
     "data": {
      "text/plain": [
       "'0.0000116286, True'"
      ]
     },
     "execution_count": 63,
     "metadata": {},
     "output_type": "execute_result"
    }
   ],
   "source": [
    "def med(array):\n",
    "    meio = (len(array))//2\n",
    "    return (meio % 2 == 0) * (array[meio] + array[meio+1])/2 + (meio % 2 != 0) * array[meio]\n",
    "%timeit med(array)\n",
    "f'{round(np.average([0.0000117, 0.0000115, 0.000012, 0.0000115, 0.0000114, 0.0000118, 0.0000115]), 10):,.10f}, {med(array)==ref}'"
   ]
  },
  {
   "cell_type": "code",
   "execution_count": 66,
   "metadata": {},
   "outputs": [
    {
     "name": "stdout",
     "output_type": "stream",
     "text": [
      "7.99 ms ± 787 µs per loop (mean ± std. dev. of 7 runs, 1 loop each)\n"
     ]
    },
    {
     "data": {
      "text/plain": [
       "'0.0066880000, True'"
      ]
     },
     "execution_count": 66,
     "metadata": {},
     "output_type": "execute_result"
    }
   ],
   "source": [
    "@njit\n",
    "def med(array):\n",
    "    return np.median(array)\n",
    "%timeit med(array)\n",
    "f'{round(np.average([0.00659, 0.00642, 0.00669, 0.00685, 0.00689, 0.00799]), 10):,.10f}, {med(array)==ref}'"
   ]
  },
  {
   "cell_type": "code",
   "execution_count": 65,
   "metadata": {},
   "outputs": [
    {
     "name": "stdout",
     "output_type": "stream",
     "text": [
      "7.59 ms ± 307 µs per loop (mean ± std. dev. of 7 runs, 1 loop each)\n"
     ]
    },
    {
     "data": {
      "text/plain": [
       "'0.0068275000, True'"
      ]
     },
     "execution_count": 65,
     "metadata": {},
     "output_type": "execute_result"
    }
   ],
   "source": [
    "@jit\n",
    "def med(array):\n",
    "    return np.median(array)\n",
    "%timeit med(array)\n",
    "f'{round(np.average([0.00674, 0.00677, 0.0067, 0.0071]), 10):,.10f}, {med(array)==ref}'"
   ]
  },
  {
   "cell_type": "code",
   "execution_count": 64,
   "metadata": {},
   "outputs": [
    {
     "name": "stdout",
     "output_type": "stream",
     "text": [
      "8.22 ms ± 192 µs per loop (mean ± std. dev. of 7 runs, 100 loops each)\n"
     ]
    },
    {
     "data": {
      "text/plain": [
       "'0.0080650000, True'"
      ]
     },
     "execution_count": 64,
     "metadata": {},
     "output_type": "execute_result"
    }
   ],
   "source": [
    "def med(array):\n",
    "    return np.median(array)\n",
    "%timeit med(array)\n",
    "f'{round(np.average([0.00828, 0.008, 0.008, 0.00798]), 10):,.10f}, {med(array)==ref}'"
   ]
  },
  {
   "cell_type": "code",
   "execution_count": null,
   "metadata": {},
   "outputs": [],
   "source": []
  }
 ],
 "metadata": {
  "kernelspec": {
   "display_name": "Python 3",
   "language": "python",
   "name": "python3"
  },
  "language_info": {
   "codemirror_mode": {
    "name": "ipython",
    "version": 3
   },
   "file_extension": ".py",
   "mimetype": "text/x-python",
   "name": "python",
   "nbconvert_exporter": "python",
   "pygments_lexer": "ipython3",
   "version": "3.8.5"
  }
 },
 "nbformat": 4,
 "nbformat_minor": 4
}
