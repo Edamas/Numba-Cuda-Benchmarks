{
 "cells": [
  {
   "cell_type": "markdown",
   "metadata": {},
   "source": [
    "# Histograma"
   ]
  },
  {
   "cell_type": "code",
   "execution_count": 25,
   "metadata": {},
   "outputs": [
    {
     "data": {
      "text/plain": [
       "((1000000,), dtype('int64'))"
      ]
     },
     "execution_count": 25,
     "metadata": {},
     "output_type": "execute_result"
    }
   ],
   "source": [
    "import numba \n",
    "from numba import cuda, jit, njit\n",
    "import numpy as np\n",
    "import datetime as dt\n",
    "\n",
    "def now():\n",
    "    return dt.datetime.now()\n",
    "\n",
    "size = 10000\n",
    "\n",
    "with open('offline_1000000.csv', 'r', encoding='utf-8') as arq:\n",
    "    array = np.array([int(i) for i in arq.read().split('\\n') if i])\n",
    "array.shape, array.dtype"
   ]
  },
  {
   "cell_type": "code",
   "execution_count": 22,
   "metadata": {},
   "outputs": [
    {
     "name": "stdout",
     "output_type": "stream",
     "text": [
      "0:00:00.054000\n"
     ]
    }
   ],
   "source": [
    "def histograma_np(array, size):\n",
    "    return np.histogram(array, size)\n",
    "\n",
    "\n",
    "t0 = now()\n",
    "hist, bin_edges = histograma_np(array, size)\n",
    "print(now()-t0)"
   ]
  },
  {
   "cell_type": "code",
   "execution_count": 41,
   "metadata": {},
   "outputs": [
    {
     "name": "stdout",
     "output_type": "stream",
     "text": [
      "0:00:01.365001\n"
     ]
    }
   ],
   "source": [
    "@numba.jit(nopython=True)\n",
    "def compute_bin(x, n, xmin, xmax):\n",
    "    # special case to mirror NumPy behavior for last bin\n",
    "    if x == xmax:\n",
    "        return n - 1 # a_max always in last bin\n",
    "    # SPEEDTIP: Remove the float64 casts if you don't need to exactly reproduce NumPy\n",
    "    bin = np.int32(n * (np.float64(x) - np.float64(xmin)) / (np.float64(xmax) - np.float64(xmin)))\n",
    "    if bin < 0 or bin >= n:\n",
    "        return None\n",
    "    else:\n",
    "        return bin\n",
    "    \n",
    "@numba.cuda.jit\n",
    "def histogram_cuda(x, xmin, xmax, histogram_out):\n",
    "    nbins = histogram_out.shape[0]\n",
    "    bin_width = (xmax - xmin) / nbins\n",
    "\n",
    "    start = cuda.grid(1)\n",
    "    stride = cuda.gridsize(1)\n",
    "\n",
    "    for i in range(start, x.shape[0], stride):\n",
    "        # note that calling a numba.jit function from CUDA automatically\n",
    "        # compiles an equivalent CUDA device function!\n",
    "        bin_number = compute_bin(x[i], nbins, xmin, xmax)\n",
    "\n",
    "        if bin_number >= 0 and bin_number < histogram_out.shape[0]:\n",
    "            numba.cuda.atomic.add(histogram_out, bin_number, 1)\n",
    "\n",
    "def histograma_cuda(serie, size):\n",
    "    histogram_out, minimo, maximo = np.zeros(size), np.min(serie), np.max(serie)\n",
    "    histogram_cuda[64, 64](serie, minimo, maximo, histogram_out)\n",
    "    return histogram_out\n",
    "\n",
    "t0 = now()\n",
    "histogramacu1 = histograma_cuda(array, size)\n",
    "print(now()-t0)"
   ]
  },
  {
   "cell_type": "code",
   "execution_count": 45,
   "metadata": {},
   "outputs": [
    {
     "name": "stdout",
     "output_type": "stream",
     "text": [
      "0:00:01.288001\n"
     ]
    }
   ],
   "source": [
    "@numba.jit(nopython=True)\n",
    "def compute_bin(x, n, xmin, xmax):\n",
    "    # special case to mirror NumPy behavior for last bin\n",
    "    if x == xmax:\n",
    "        return n - 1 # a_max always in last bin\n",
    "    # SPEEDTIP: Remove the float64 casts if you don't need to exactly reproduce NumPy\n",
    "    bin = np.int32(n * (np.float64(x) - np.float64(xmin)) / (np.float64(xmax) - np.float64(xmin)))\n",
    "    if 0 <=  bin < n:\n",
    "        return bin\n",
    "    \n",
    "@numba.cuda.jit\n",
    "def histogram_cuda(x, xmin, xmax, histogram_out):\n",
    "    nbins = histogram_out.shape[0]\n",
    "    bin_width = (xmax - xmin) / nbins\n",
    "\n",
    "    for i in range(cuda.grid(1), x.shape[0], cuda.gridsize(1)):\n",
    "        bin_number = compute_bin(x[i], nbins, xmin, xmax)\n",
    "\n",
    "        if 0 <= bin_number < nbins:\n",
    "            numba.cuda.atomic.add(histogram_out, bin_number, 1)\n",
    "\n",
    "def histograma_cuda(serie, size):\n",
    "    histogram_out, minimo, maximo = np.zeros(size), np.min(serie), np.max(serie)\n",
    "    histogram_cuda[64, 64](serie, minimo, maximo, histogram_out)\n",
    "    return histogram_out\n",
    "\n",
    "t0 = now()\n",
    "histogramacu2 = histograma_cuda(array, size)\n",
    "print(now()-t0)"
   ]
  },
  {
   "cell_type": "code",
   "execution_count": 44,
   "metadata": {},
   "outputs": [
    {
     "data": {
      "text/plain": [
       "True"
      ]
     },
     "execution_count": 44,
     "metadata": {},
     "output_type": "execute_result"
    }
   ],
   "source": [
    "histogramacu1.sum() == histogramacu2.sum()"
   ]
  },
  {
   "cell_type": "code",
   "execution_count": null,
   "metadata": {},
   "outputs": [],
   "source": []
  }
 ],
 "metadata": {
  "kernelspec": {
   "display_name": "Python 3",
   "language": "python",
   "name": "python3"
  },
  "language_info": {
   "codemirror_mode": {
    "name": "ipython",
    "version": 3
   },
   "file_extension": ".py",
   "mimetype": "text/x-python",
   "name": "python",
   "nbconvert_exporter": "python",
   "pygments_lexer": "ipython3",
   "version": "3.8.5"
  }
 },
 "nbformat": 4,
 "nbformat_minor": 4
}
