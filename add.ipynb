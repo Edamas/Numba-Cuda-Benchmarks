{
 "cells": [
  {
   "cell_type": "markdown",
   "metadata": {},
   "source": [
    "# Add"
   ]
  },
  {
   "cell_type": "code",
   "execution_count": 31,
   "metadata": {},
   "outputs": [
    {
     "data": {
      "text/plain": [
       "(1000000, dtype('int64'), 7434265667814)"
      ]
     },
     "execution_count": 31,
     "metadata": {},
     "output_type": "execute_result"
    }
   ],
   "source": [
    "import numba \n",
    "from numba import cuda, jit, njit\n",
    "import numpy as np\n",
    "from functools import reduce\n",
    "import datetime as dt\n",
    "\n",
    "def now():\n",
    "    return dt.datetime.now()\n",
    "\n",
    "with open('offline_1000000.csv', 'r', encoding='utf-8') as arq:\n",
    "    array0 = np.array([int(i) for i in arq.read().split('\\n') if i])\n",
    "\n",
    "add = 100\n",
    "ref = sum([i + add for i in array0])\n",
    "array.size, array.dtype, ref"
   ]
  },
  {
   "cell_type": "code",
   "execution_count": 17,
   "metadata": {},
   "outputs": [
    {
     "name": "stdout",
     "output_type": "stream",
     "text": [
      "4.15 ms ± 154 µs per loop (mean ± std. dev. of 7 runs, 1 loop each)\n"
     ]
    },
    {
     "data": {
      "text/plain": [
       "'0.005525, True'"
      ]
     },
     "execution_count": 17,
     "metadata": {},
     "output_type": "execute_result"
    }
   ],
   "source": [
    "array = array0.copy()\n",
    "@njit(parallel=True)\n",
    "def soma(array, add):\n",
    "    return array + add\n",
    "\n",
    "%timeit soma(array, add)\n",
    "f'{round(np.average([0.00573, 0.00532, 0.00415]), 8):,.8}, {sum(soma(array, add))==ref}'"
   ]
  },
  {
   "cell_type": "code",
   "execution_count": 18,
   "metadata": {},
   "outputs": [
    {
     "name": "stdout",
     "output_type": "stream",
     "text": [
      "6.75 ms ± 492 µs per loop (mean ± std. dev. of 7 runs, 100 loops each)\n"
     ]
    },
    {
     "data": {
      "text/plain": [
       "'0.00631667, True'"
      ]
     },
     "execution_count": 18,
     "metadata": {},
     "output_type": "execute_result"
    }
   ],
   "source": [
    "array = array0.copy()\n",
    "@njit\n",
    "def soma(array, add):\n",
    "    return array + add\n",
    "%timeit soma(array, add)\n",
    "f'{round(np.average([0.0055, 0.00673, 0.00672, 0.00675]), 8):,.8}, {sum(soma(array, add))==ref}'"
   ]
  },
  {
   "cell_type": "code",
   "execution_count": 29,
   "metadata": {},
   "outputs": [
    {
     "name": "stdout",
     "output_type": "stream",
     "text": [
      "10.8 ms ± 772 µs per loop (mean ± std. dev. of 7 runs, 1 loop each)\n"
     ]
    },
    {
     "data": {
      "text/plain": [
       "('0.01175, False', 7434965667814, 7434265667814)"
      ]
     },
     "execution_count": 29,
     "metadata": {},
     "output_type": "execute_result"
    }
   ],
   "source": [
    "array = array0.copy()\n",
    "@cuda.jit\n",
    "def soma(array, add):\n",
    "    # Thread id in a 1D block\n",
    "    tx = cuda.threadIdx.x\n",
    "    # Block id in a 1D grid\n",
    "    ty = cuda.blockIdx.x\n",
    "    # Block width, i.e. number of threads per block\n",
    "    bw = cuda.blockDim.x\n",
    "    # Compute flattened index inside the array\n",
    "    pos = tx + ty * bw # pos = cuda.grid(1)\n",
    "    if pos < array.size:  # Check array boundaries\n",
    "        array[pos] += add\n",
    "threadsperblock = 32\n",
    "blockspergrid = (array.size + (threadsperblock - 1)) // threadsperblock\n",
    "%timeit soma[blockspergrid, threadsperblock](array, add)\n",
    "f'{round(np.average([0.0108, 0.0127]), 8):,.8}, {sum(array)==ref}', sum(array), ref"
   ]
  },
  {
   "cell_type": "code",
   "execution_count": null,
   "metadata": {},
   "outputs": [],
   "source": []
  },
  {
   "cell_type": "code",
   "execution_count": null,
   "metadata": {},
   "outputs": [],
   "source": []
  }
 ],
 "metadata": {
  "kernelspec": {
   "display_name": "Python 3",
   "language": "python",
   "name": "python3"
  },
  "language_info": {
   "codemirror_mode": {
    "name": "ipython",
    "version": 3
   },
   "file_extension": ".py",
   "mimetype": "text/x-python",
   "name": "python",
   "nbconvert_exporter": "python",
   "pygments_lexer": "ipython3",
   "version": "3.8.5"
  }
 },
 "nbformat": 4,
 "nbformat_minor": 4
}
