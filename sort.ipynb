{
 "cells": [
  {
   "cell_type": "markdown",
   "metadata": {},
   "source": [
    "# Sort"
   ]
  },
  {
   "cell_type": "code",
   "execution_count": 1,
   "metadata": {},
   "outputs": [
    {
     "data": {
      "text/plain": [
       "(1000000, dtype('int64'), 70, 10013464795)"
      ]
     },
     "execution_count": 1,
     "metadata": {},
     "output_type": "execute_result"
    }
   ],
   "source": [
    "import numba \n",
    "from numba import cuda, jit, njit\n",
    "import numpy as np\n",
    "from functools import reduce\n",
    "import datetime as dt\n",
    "\n",
    "def now():\n",
    "    return dt.datetime.now()\n",
    "\n",
    "with open('offline_1000000.csv', 'r', encoding='utf-8') as arq:\n",
    "    array0 = np.array([int(i) for i in arq.read().split('\\n') if i])\n",
    "\n",
    "np.random.shuffle(array0)\n",
    "array = array0.copy()\n",
    "ref = sorted(array0)\n",
    "array.size, array.dtype, ref[0], ref[-1]"
   ]
  },
  {
   "cell_type": "code",
   "execution_count": 6,
   "metadata": {},
   "outputs": [
    {
     "name": "stdout",
     "output_type": "stream",
     "text": [
      "24.2 ms ± 699 µs per loop (mean ± std. dev. of 7 runs, 10 loops each)\n"
     ]
    },
    {
     "data": {
      "text/plain": [
       "'0.0245750000, True, True'"
      ]
     },
     "execution_count": 6,
     "metadata": {},
     "output_type": "execute_result"
    }
   ],
   "source": [
    "np.random.shuffle(array)\n",
    "array = array.copy()\n",
    "def classif(array):\n",
    "    array.sort()\n",
    "    return array\n",
    "%timeit classif(array)\n",
    "f'{round(np.average([0.025, 0.0255, 0.0241, 0.0237]), 10):,.10f}, {classif((array))[0]==ref[0]}, {classif(array)[-1]==ref[-1]}'"
   ]
  },
  {
   "cell_type": "code",
   "execution_count": 7,
   "metadata": {},
   "outputs": [
    {
     "name": "stdout",
     "output_type": "stream",
     "text": [
      "70.9 ms ± 3.5 ms per loop (mean ± std. dev. of 7 runs, 1 loop each)\n"
     ]
    },
    {
     "data": {
      "text/plain": [
       "'0.0739833333, True, True'"
      ]
     },
     "execution_count": 7,
     "metadata": {},
     "output_type": "execute_result"
    }
   ],
   "source": [
    "np.random.shuffle(array)\n",
    "array = array.copy()\n",
    "@jit\n",
    "def classif(array):\n",
    "    array.sort()\n",
    "    return array\n",
    "%timeit classif(array)\n",
    "f'{round(np.average([0.0669, 0.0672, 0.0707, 0.0707, 0.0714, 0.097, 0.0709]), 10):,.10f}, {classif((array))[0]==ref[0]}, {classif(array)[-1]==ref[-1]}'"
   ]
  },
  {
   "cell_type": "code",
   "execution_count": 8,
   "metadata": {},
   "outputs": [
    {
     "name": "stdout",
     "output_type": "stream",
     "text": [
      "71.7 ms ± 4.13 ms per loop (mean ± std. dev. of 7 runs, 1 loop each)\n"
     ]
    },
    {
     "data": {
      "text/plain": [
       "'0.0715666667, True, True'"
      ]
     },
     "execution_count": 8,
     "metadata": {},
     "output_type": "execute_result"
    }
   ],
   "source": [
    "np.random.shuffle(array)\n",
    "array = array.copy()\n",
    "@njit\n",
    "def classif(array):\n",
    "    array.sort()\n",
    "    return array\n",
    "%timeit classif(array)\n",
    "f'{round(np.average([0.0691, 0.0706, 0.0717, 0.0684, 0.0767, 0.0729, 0.0717]), 10):,.10f}, {classif((array))[0]==ref[0]}, {classif(array)[-1]==ref[-1]}'"
   ]
  },
  {
   "cell_type": "code",
   "execution_count": 9,
   "metadata": {},
   "outputs": [
    {
     "name": "stdout",
     "output_type": "stream",
     "text": [
      "237 ms ± 6.63 ms per loop (mean ± std. dev. of 7 runs, 1 loop each)\n"
     ]
    },
    {
     "data": {
      "text/plain": [
       "'0.2396000000, True, True'"
      ]
     },
     "execution_count": 9,
     "metadata": {},
     "output_type": "execute_result"
    }
   ],
   "source": [
    "np.random.shuffle(array)\n",
    "array = array.copy()\n",
    "@njit\n",
    "def classif(array):\n",
    "    return sorted(array)\n",
    "%timeit classif(array)\n",
    "f'{round(np.average([0.240, 0.225, 0.224, 0.228, 0.281, 0.0237]), 10):,.10f}, {classif((array))[0]==ref[0]}, {classif(array)[-1]==ref[-1]}'"
   ]
  },
  {
   "cell_type": "code",
   "execution_count": 10,
   "metadata": {},
   "outputs": [
    {
     "name": "stdout",
     "output_type": "stream",
     "text": [
      "261 ms ± 33.3 ms per loop (mean ± std. dev. of 7 runs, 1 loop each)\n"
     ]
    },
    {
     "data": {
      "text/plain": [
       "'0.2424000000, True, True'"
      ]
     },
     "execution_count": 10,
     "metadata": {},
     "output_type": "execute_result"
    }
   ],
   "source": [
    "np.random.shuffle(array)\n",
    "array = array.copy()\n",
    "@jit\n",
    "def classif(array):\n",
    "    return sorted(array)\n",
    "%timeit classif(array)\n",
    "f'{round(np.average([0.227, 0.225, 0.266, 0.239, 0.255, 0.261]), 10):,.10f}, {classif((array))[0]==ref[0]}, {classif(array)[-1]==ref[-1]}'"
   ]
  },
  {
   "cell_type": "code",
   "execution_count": 11,
   "metadata": {},
   "outputs": [
    {
     "name": "stdout",
     "output_type": "stream",
     "text": [
      "1.26 s ± 109 ms per loop (mean ± std. dev. of 7 runs, 1 loop each)\n"
     ]
    },
    {
     "data": {
      "text/plain": [
       "'1.2033333333, True, True'"
      ]
     },
     "execution_count": 11,
     "metadata": {},
     "output_type": "execute_result"
    }
   ],
   "source": [
    "np.random.shuffle(array)\n",
    "array = array.copy()\n",
    "def classif(array):\n",
    "    return sorted(array)\n",
    "%timeit classif(array)\n",
    "f'{round(np.average([1.21, 1.19, 1.21, 1.26]), 10):,.10f}, {classif((array))[0]==ref[0]}, {classif(array)[-1]==ref[-1]}'"
   ]
  },
  {
   "cell_type": "code",
   "execution_count": 12,
   "metadata": {},
   "outputs": [
    {
     "name": "stdout",
     "output_type": "stream",
     "text": [
      "The slowest run took 134606.83 times longer than the fastest. This could mean that an intermediate result is being cached.\n",
      "24.3 s ± 30.6 s per loop (mean ± std. dev. of 7 runs, 1 loop each)\n"
     ]
    },
    {
     "data": {
      "text/plain": [
       "'26.9500000000, True, True'"
      ]
     },
     "execution_count": 12,
     "metadata": {},
     "output_type": "execute_result"
    }
   ],
   "source": [
    "np.random.shuffle(array)\n",
    "array = array.copy()\n",
    "@njit(parallel=True)\n",
    "def insertion_sort(array):\n",
    "    # Loop from the second element of the array until\n",
    "    # the last element\n",
    "    for i in numba.prange(1, len(array)):\n",
    "        # This is the element we want to position in its\n",
    "        # correct place\n",
    "        key_item = array[i]\n",
    "        # Initialize the variable that will be used to\n",
    "        # find the correct position of the element referenced\n",
    "        # by `key_item`\n",
    "        j = i - 1\n",
    "        # Run through the list of items (the left\n",
    "        # portion of the array) and find the correct position\n",
    "        # of the element referenced by `key_item`. Do this only\n",
    "        # if `key_item` is smaller than its adjacent values.\n",
    "        while j >= 0 and array[j] > key_item:\n",
    "            # Shift the value one position to the left\n",
    "            # and reposition j to point to the next element\n",
    "            # (from right to left)\n",
    "            array[j + 1] = array[j]\n",
    "            j -= 1\n",
    "        # When you finish shifting the elements, you can position\n",
    "        # `key_item` in its correct location\n",
    "        array[j + 1] = key_item\n",
    "    return array\n",
    "\n",
    "%timeit insertion_sort(array)\n",
    "f'{round(np.average([33, 20.9]), 10):,.10f}, {classif((array))[0]==ref[0]}, {classif(array)[-1]==ref[-1]}'"
   ]
  },
  {
   "cell_type": "code",
   "execution_count": 70,
   "metadata": {},
   "outputs": [
    {
     "data": {
      "text/plain": [
       "[1, 2, 2, 3]"
      ]
     },
     "execution_count": 70,
     "metadata": {},
     "output_type": "execute_result"
    }
   ],
   "source": [
    "array1 = [1, 2, 3]\n",
    "array2 = []\n",
    "for i in range(len(array)):\n",
    "    if array1[i] <= array array.insert(2,2)\n",
    "array"
   ]
  },
  {
   "cell_type": "code",
   "execution_count": null,
   "metadata": {},
   "outputs": [],
   "source": [
    "np.random.shuffle(array)\n",
    "array = array.copy()\n",
    "def classif(array):\n",
    "    array1 = []\n",
    "    for i in range(len(array))\n",
    "    return sorted(array)\n",
    "%timeit classif(array)\n",
    "f'{round(np.average([1.21, 1.19, 1.21]), 10):,.10f}, {classif(array) == ref}'"
   ]
  },
  {
   "cell_type": "code",
   "execution_count": null,
   "metadata": {},
   "outputs": [],
   "source": [
    "def med(array):\n",
    "    meio = (len(array))//2\n",
    "    if meio % 2 == 0:\n",
    "        meio = (array[meio] + array[meio+1])/2\n",
    "    else:\n",
    "        meio = array[meio]\n",
    "    return meio\n",
    "%timeit med(array)\n",
    "f'{round(np.average([0.00000188, 0.00000213, 0.00000188, 0.00000186]), 10):,.10f}, {med(array)==ref}'"
   ]
  },
  {
   "cell_type": "code",
   "execution_count": null,
   "metadata": {},
   "outputs": [],
   "source": [
    "def med(array):\n",
    "    meio = (len(array))//2\n",
    "    return (meio % 2 == 0) * (array[meio] + array[meio+1])/2 + (meio % 2 != 0) * array[meio]\n",
    "%timeit med(array)\n",
    "f'{round(np.average([0.0000117, 0.0000115, 0.000012, 0.0000115, 0.0000114, 0.0000118, 0.0000115]), 10):,.10f}, {med(array)==ref}'"
   ]
  },
  {
   "cell_type": "code",
   "execution_count": null,
   "metadata": {},
   "outputs": [],
   "source": [
    "@njit\n",
    "def med(array):\n",
    "    return np.median(array)\n",
    "%timeit med(array)\n",
    "f'{round(np.average([0.00659, 0.00642, 0.00669, 0.00685, 0.00689, 0.00799]), 10):,.10f}, {med(array)==ref}'"
   ]
  },
  {
   "cell_type": "code",
   "execution_count": null,
   "metadata": {},
   "outputs": [],
   "source": [
    "@jit\n",
    "def med(array):\n",
    "    return np.median(array)\n",
    "%timeit med(array)\n",
    "f'{round(np.average([0.00674, 0.00677, 0.0067, 0.0071]), 10):,.10f}, {med(array)==ref}'"
   ]
  },
  {
   "cell_type": "code",
   "execution_count": null,
   "metadata": {},
   "outputs": [],
   "source": [
    "def med(array):\n",
    "    return np.median(array)\n",
    "%timeit med(array)\n",
    "f'{round(np.average([0.00828, 0.008, 0.008, 0.00798]), 10):,.10f}, {med(array)==ref}'"
   ]
  },
  {
   "cell_type": "code",
   "execution_count": null,
   "metadata": {},
   "outputs": [],
   "source": []
  }
 ],
 "metadata": {
  "kernelspec": {
   "display_name": "Python 3",
   "language": "python",
   "name": "python3"
  },
  "language_info": {
   "codemirror_mode": {
    "name": "ipython",
    "version": 3
   },
   "file_extension": ".py",
   "mimetype": "text/x-python",
   "name": "python",
   "nbconvert_exporter": "python",
   "pygments_lexer": "ipython3",
   "version": "3.8.5"
  }
 },
 "nbformat": 4,
 "nbformat_minor": 4
}
