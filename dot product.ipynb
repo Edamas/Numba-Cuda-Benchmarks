{
 "cells": [
  {
   "cell_type": "markdown",
   "metadata": {},
   "source": [
    "# Dot Product (Neural Networks)"
   ]
  },
  {
   "cell_type": "code",
   "execution_count": 2,
   "metadata": {},
   "outputs": [
    {
     "data": {
      "text/plain": [
       "(1000000, dtype('int64'), 10013464795)"
      ]
     },
     "execution_count": 2,
     "metadata": {},
     "output_type": "execute_result"
    }
   ],
   "source": [
    "import numba \n",
    "from numba import cuda, jit, njit\n",
    "import numpy as np\n",
    "from functools import reduce\n",
    "import datetime as dt\n",
    "\n",
    "def now():\n",
    "    return dt.datetime.now()\n",
    "\n",
    "with open('offline_1000000.csv', 'r', encoding='utf-8') as arq:\n",
    "    array = np.array([int(i) for i in arq.read().split('\\n') if i])\n",
    "ref = max(array)\n",
    "array.size, array.dtype, ref"
   ]
  },
  {
   "cell_type": "code",
   "execution_count": 5,
   "metadata": {},
   "outputs": [],
   "source": [
    "inputs = [1, 2, 3, 2.5]\n",
    "weights = [[0.2, 0.8, -0.5, 1.0], [0.5, -0.91, 0.26, -0.5], [ -0.26, -0.27, 0.17, 0.87]]\n",
    "biases = [2, 3, 0.5]\n",
    "\n",
    "layer_outputs = []\n",
    "for neuron_weigths, neuron_bias in zip(weights, biases):\n",
    "    neuron_output = 0\n",
    "    for n_input, weight in zip(inputs, neuron_weigths):\n",
    "        neuron_output += n_input * weight\n",
    "    neuron_output += neuron_bias\n",
    "    layer_outputs.append(neuron_output)"
   ]
  },
  {
   "cell_type": "code",
   "execution_count": 6,
   "metadata": {},
   "outputs": [
    {
     "data": {
      "text/plain": [
       "[4.8, 1.21, 2.385]"
      ]
     },
     "execution_count": 6,
     "metadata": {},
     "output_type": "execute_result"
    }
   ],
   "source": [
    "layer_outputs"
   ]
  },
  {
   "cell_type": "code",
   "execution_count": 10,
   "metadata": {},
   "outputs": [
    {
     "data": {
      "text/plain": [
       "4.8"
      ]
     },
     "execution_count": 10,
     "metadata": {},
     "output_type": "execute_result"
    }
   ],
   "source": [
    "def dot(weights, inputs, bias):\n",
    "    return np.dot(inputs, weights) + bias\n",
    "\n",
    "inputs = np.array([1, 2, 3, 2.5])\n",
    "weights = [0.2, 0.8, -0.5, 1.0]\n",
    "bias = 2.0\n",
    "dot(weights, inputs, bias)"
   ]
  },
  {
   "cell_type": "code",
   "execution_count": 19,
   "metadata": {},
   "outputs": [
    {
     "data": {
      "text/plain": [
       "4.8"
      ]
     },
     "execution_count": 19,
     "metadata": {},
     "output_type": "execute_result"
    }
   ],
   "source": [
    "inputs = np.array([1, 2, 3, 2.5], np.float32)\n",
    "weights = np.array([0.2, 0.8, -0.5, 1.0], dtype=np.float32)\n",
    "bias = np.float32(2.0)\n",
    "ref = np.dot(inputs, weights) + bias\n",
    "ref"
   ]
  },
  {
   "cell_type": "code",
   "execution_count": 111,
   "metadata": {},
   "outputs": [
    {
     "name": "stdout",
     "output_type": "stream",
     "text": [
      "1.22 µs ± 22.1 ns per loop (mean ± std. dev. of 7 runs, 1000000 loops each)\n"
     ]
    },
    {
     "data": {
      "text/plain": [
       "('0.00000103', True)"
      ]
     },
     "execution_count": 111,
     "metadata": {},
     "output_type": "execute_result"
    }
   ],
   "source": [
    "@njit()\n",
    "def dot(weights, inputs, bias):\n",
    "    return np.dot(inputs, weights) + bias\n",
    "%timeit dot(weights, inputs, bias)\n",
    "f'{round(np.average([0.00000101, 0.00000101, 0.00000108, 0.00000103, 0.00000101, 0.00000106]), 8):.8f}', ref == dot(weights, inputs, bias)"
   ]
  },
  {
   "cell_type": "code",
   "execution_count": 122,
   "metadata": {},
   "outputs": [
    {
     "name": "stdout",
     "output_type": "stream",
     "text": [
      "3.23 µs ± 46.5 ns per loop (mean ± std. dev. of 7 runs, 100000 loops each)\n"
     ]
    },
    {
     "data": {
      "text/plain": [
       "('0.00000283', True)"
      ]
     },
     "execution_count": 122,
     "metadata": {},
     "output_type": "execute_result"
    }
   ],
   "source": [
    "def dot(weights, inputs, bias):\n",
    "    return np.dot(inputs, weights) + bias\n",
    "%timeit dot(weights, inputs, bias)\n",
    "f'{round(np.average([0.00000275, 0.00000263, 0.00000267, 0.00000273, 0.00000274, 0.00000347, 0.00000323]), 8):.8f}', ref == dot(weights, inputs, bias)"
   ]
  },
  {
   "cell_type": "code",
   "execution_count": 112,
   "metadata": {},
   "outputs": [
    {
     "name": "stdout",
     "output_type": "stream",
     "text": [
      "1.22 µs ± 33.1 ns per loop (mean ± std. dev. of 7 runs, 1000000 loops each)\n"
     ]
    },
    {
     "data": {
      "text/plain": [
       "('0.00000281', True)"
      ]
     },
     "execution_count": 112,
     "metadata": {},
     "output_type": "execute_result"
    }
   ],
   "source": [
    "@jit()\n",
    "def dot(weights, inputs, bias):\n",
    "    return np.dot(inputs, weights) + bias\n",
    "%timeit dot(weights, inputs, bias)\n",
    "f'{round(np.average([0.00000101, 0.00000113, 0.00000104, 0.000000984, 0.00000988]), 8):.8f}', ref == dot(weights, inputs, bias)"
   ]
  },
  {
   "cell_type": "code",
   "execution_count": 120,
   "metadata": {},
   "outputs": [
    {
     "name": "stdout",
     "output_type": "stream",
     "text": [
      "The slowest run took 7.80 times longer than the fastest. This could mean that an intermediate result is being cached.\n",
      "3.19 µs ± 3.48 µs per loop (mean ± std. dev. of 7 runs, 1 loop each)\n"
     ]
    },
    {
     "data": {
      "text/plain": [
       "'0.00000410, True'"
      ]
     },
     "execution_count": 120,
     "metadata": {},
     "output_type": "execute_result"
    }
   ],
   "source": [
    "@njit\n",
    "def dot(weights, inputs, bias):\n",
    "    return np.sum(np.multiply(inputs, weights)) + bias\n",
    "%timeit dot(weights, inputs, bias)\n",
    "f'{round(np.average([0.00000397, 0.00000301, 0.00000356, 0.00000547, 0.00000386, 0.00000326, 0.00000557, 0.00000319]), 8):.8f}, {ref == dot(weights, inputs, bias)}'"
   ]
  },
  {
   "cell_type": "code",
   "execution_count": 117,
   "metadata": {},
   "outputs": [
    {
     "name": "stdout",
     "output_type": "stream",
     "text": [
      "11.3 µs ± 193 ns per loop (mean ± std. dev. of 7 runs, 100000 loops each)\n"
     ]
    },
    {
     "data": {
      "text/plain": [
       "'0.00000543, True'"
      ]
     },
     "execution_count": 117,
     "metadata": {},
     "output_type": "execute_result"
    }
   ],
   "source": [
    "def dot(weights, inputs, bias):\n",
    "    return np.sum(np.multiply(inputs, weights)) + bias\n",
    "%timeit dot(weights, inputs, bias)\n",
    "f'{round(np.average([0.0000012, 0.00000125, 0.0000117, 0.0000012, 0.0000118, 0.0000113]), 8):.8f}, {ref == dot(weights, inputs, bias)}'"
   ]
  },
  {
   "cell_type": "code",
   "execution_count": 110,
   "metadata": {},
   "outputs": [
    {
     "name": "stdout",
     "output_type": "stream",
     "text": [
      "The slowest run took 13.14 times longer than the fastest. This could mean that an intermediate result is being cached.\n",
      "4.2 µs ± 5.8 µs per loop (mean ± std. dev. of 7 runs, 1 loop each)\n"
     ]
    },
    {
     "data": {
      "text/plain": [
       "'0.00000426, True'"
      ]
     },
     "execution_count": 110,
     "metadata": {},
     "output_type": "execute_result"
    }
   ],
   "source": [
    "@jit\n",
    "def dot(weights, inputs, bias):\n",
    "    return np.sum(np.multiply(inputs, weights)) + bias\n",
    "%timeit dot(weights, inputs, bias)\n",
    "f'{round(np.average([0.00000416, 0.0000041, 0.00000339, 0.00000599, 0.00000364, 0.0000042]), 8):.8f}, {ref == dot(weights, inputs, bias)}'"
   ]
  },
  {
   "cell_type": "code",
   "execution_count": 113,
   "metadata": {},
   "outputs": [
    {
     "name": "stdout",
     "output_type": "stream",
     "text": [
      "The slowest run took 39.00 times longer than the fastest. This could mean that an intermediate result is being cached.\n",
      "109 µs ± 207 µs per loop (mean ± std. dev. of 7 runs, 1 loop each)\n"
     ]
    },
    {
     "data": {
      "text/plain": [
       "'0.00002756, True'"
      ]
     },
     "execution_count": 113,
     "metadata": {},
     "output_type": "execute_result"
    }
   ],
   "source": [
    "@njit(parallel=True)\n",
    "def dot(weights, inputs, bias):\n",
    "    return np.dot(inputs, weights) + bias\n",
    "%timeit dot(weights, inputs, bias)\n",
    "f'{round(np.average([0.0000236, 0.0000276, 0.0000307, 0.0000283, 0.0000276]), 8):.8f}, {ref == dot(weights, inputs, bias)}'"
   ]
  },
  {
   "cell_type": "code",
   "execution_count": null,
   "metadata": {},
   "outputs": [],
   "source": []
  }
 ],
 "metadata": {
  "kernelspec": {
   "display_name": "Python 3",
   "language": "python",
   "name": "python3"
  },
  "language_info": {
   "codemirror_mode": {
    "name": "ipython",
    "version": 3
   },
   "file_extension": ".py",
   "mimetype": "text/x-python",
   "name": "python",
   "nbconvert_exporter": "python",
   "pygments_lexer": "ipython3",
   "version": "3.8.5"
  }
 },
 "nbformat": 4,
 "nbformat_minor": 4
}
